{
 "cells": [
  {
   "cell_type": "code",
   "execution_count": null,
   "id": "1372393f",
   "metadata": {
    "vscode": {
     "languageId": "plaintext"
    }
   },
   "outputs": [],
   "source": [
    "%sql\n",
    "CREATE CATALOG IF NOT EXISTS core MANAGED LOCATION 'abfss://unity-catalog-storage@dbstoragezwbsqsptedmwu.dfs.core.windows.net/4091704180100433';\n",
    "CREATE SCHEMA IF NOT EXISTS core.sap_ecc;\n",
    "\n",
    "CREATE TABLE IF NOT EXISTS core.sap_ecc.DD07L (\n",
    "          DOMNAME STRING,\n",
    "          VALPOS STRING,\n",
    "          AS4VERS STRING\n",
    "    );\n",
    "\n",
    "GRANT USE_CATALOG, USE_SCHEMA, APPLY_TAG ON CATALOG core TO `hemali.riaan@gmail.com`"
   ]
  }
 ],
 "metadata": {
  "language_info": {
   "name": "python"
  }
 },
 "nbformat": 4,
 "nbformat_minor": 5
}
