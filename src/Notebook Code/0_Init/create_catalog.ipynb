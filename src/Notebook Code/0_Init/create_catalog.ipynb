{
 "cells": [
  {
   "cell_type": "code",
   "execution_count": null,
   "id": "710979e7",
   "metadata": {
    "vscode": {
     "languageId": "plaintext"
    }
   },
   "outputs": [],
   "source": [
    "%sql\n",
    "CREATE CATALOG IF NOT EXISTS bronze_new MANAGED LOCATION 'abfss://unity-catalog-storage@dbstoragezwbsqsptedmwu.dfs.core.windows.net/4091704180100433';\n",
    "CREATE SCHEMA IF NOT EXISTS bronze_new.sap_ecc;\n",
    "\n",
    "CREATE TABLE IF NOT EXISTS bronze_new.sap_ecc.DD07L (\n",
    "          DOMNAME STRING,\n",
    "          VALPOS STRING,\n",
    "          AS4VERS STRING\n",
    "    );\n",
    "\n",
    "GRANT USE_CATALOG, USE_SCHEMA, APPLY_TAG ON CATALOG bronze_new TO `hemali.riaan@gmail.com`"
   ]
  },
  {
   "cell_type": "code",
   "execution_count": null,
   "id": "a9f345e5",
   "metadata": {
    "vscode": {
     "languageId": "plaintext"
    }
   },
   "outputs": [],
   "source": [
    "%sql\n",
    "CREATE CATALOG IF NOT EXISTS silver_new MANAGED LOCATION 'abfss://unity-catalog-storage@dbstoragezwbsqsptedmwu.dfs.core.windows.net/4091704180100433';\n",
    "CREATE SCHEMA IF NOT EXISTS silver_new.sap_ecc;\n",
    "\n",
    "CREATE TABLE IF NOT EXISTS silver_new.sap_ecc.DD07L (\n",
    "          DOMNAME STRING,\n",
    "          VALPOS STRING,\n",
    "          AS4VERS STRING\n",
    "    );"
   ]
  },
  {
   "cell_type": "code",
   "execution_count": null,
   "id": "dd7b54af",
   "metadata": {
    "vscode": {
     "languageId": "plaintext"
    }
   },
   "outputs": [],
   "source": []
  }
 ],
 "metadata": {
  "language_info": {
   "name": "python"
  }
 },
 "nbformat": 4,
 "nbformat_minor": 5
}
